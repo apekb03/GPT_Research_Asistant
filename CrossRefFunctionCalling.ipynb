{
  "cells": [
    {
      "cell_type": "code",
      "execution_count": 1,
      "metadata": {
        "id": "uuJfY49-fbdT"
      },
      "outputs": [],
      "source": [
        "from openai import OpenAI\n",
        "import os\n",
        "import requests\n",
        "import json"
      ]
    },
    {
      "cell_type": "code",
      "execution_count": 2,
      "metadata": {
        "colab": {
          "base_uri": "https://localhost:8080/"
        },
        "id": "ezdwPakVhhRr",
        "outputId": "0ee1dd0b-67dc-4b56-8163-c3b9693ee62f"
      },
      "outputs": [],
      "source": [
        "from getpass import getpass\n",
        "\n",
        "\n",
        "\n",
        "api_key = getpass(\"Enter your OpenAI API key: \")\n",
        "\n",
        "\n",
        "os.environ[\"OPENAI_API_KEY\"] = api_key\n",
        "\n",
        "\n",
        "client = OpenAI(api_key=api_key)\n"
      ]
    },
    {
      "cell_type": "code",
      "execution_count": 11,
      "metadata": {
        "id": "enPM4-r7illW"
      },
      "outputs": [],
      "source": [
        "tools=[{\n",
        "    \"type\": \"function\",\n",
        "    \"function\":{\n",
        "        \"name\": \"find_sources\",\n",
        "        \"description\":\"Get sources for your research question\",\n",
        "        \"parameters\":{\n",
        "            \"type\": \"object\",\n",
        "            \"properties\":{\n",
        "                \"title\":{\"type\":\"string\"}\n",
        "        },\n",
        "            \"required\":[\"title\"],\n",
        "            \"additionalProperties\": False\n",
        "        },\n",
        "        \"strict\":True\n",
        "    }\n",
        "\n",
        "}]"
      ]
    },
    {
      "cell_type": "code",
      "execution_count": 25,
      "metadata": {
        "colab": {
          "base_uri": "https://localhost:8080/"
        },
        "id": "WxAjuCH1kK3q",
        "outputId": "650c79e5-7aa6-46b1-9673-4248a07589d9"
      },
      "outputs": [
        {
          "data": {
            "text/plain": [
              "[ChatCompletionMessageToolCall(id='call_Fsr1b3XWCJEjreirJv6VhD1H', function=Function(arguments='{\"title\":\"multiple regression\"}', name='find_sources'), type='function')]"
            ]
          },
          "execution_count": 25,
          "metadata": {},
          "output_type": "execute_result"
        }
      ],
      "source": [
        "messages=[{\"role\":\"user\",\"content\":\"Find me an article on multiple regression \"}]\n",
        "def find_sources(title):\n",
        "    response=requests.get(\"https://api.crossref.org/works\"\n",
        "        f\"?query.title={title}\"\n",
        "        \"&rows=5\"\n",
        "        \"&filter=type:journal-article,type:proceedings-article\")\n",
        "    data=response.json()\n",
        "    items = data.get(\"message\", {}).get(\"items\", [])\n",
        "    results = []\n",
        "    for item in items:\n",
        "        title_list = item.get(\"title\", [])\n",
        "        if title_list:\n",
        "            title_text = title_list[0]\n",
        "            doi = item.get(\"DOI\", \"\")\n",
        "            results.append(f\"{title_text} — https://doi.org/{doi}\")\n",
        "\n",
        "    return results \n",
        "completion = client.chat.completions.create(\n",
        "    model=\"gpt-4o\",\n",
        "    messages=messages,\n",
        "    tools=tools\n",
        ")\n",
        "\n",
        "completion.choices[0].message.tool_calls"
      ]
    },
    {
      "cell_type": "code",
      "execution_count": 26,
      "metadata": {
        "colab": {
          "base_uri": "https://localhost:8080/",
          "height": 358
        },
        "id": "DivFoIK6mpA6",
        "outputId": "49818a59-55f7-48c7-ff5d-8036ccb63ef7"
      },
      "outputs": [
        {
          "name": "stdout",
          "output_type": "stream",
          "text": [
            "Here are some articles on multiple regression:\n",
            "\n",
            "1. [Multiple regression](https://doi.org/10.1136/bmj.f4373)\n",
            "2. [Multiple Regression](https://doi.org/10.1055/s-2007-959036)\n",
            "3. [Multiple Correlation Versus Multiple Regression](https://doi.org/10.1177/0013164402250990)\n",
            "4. [Simple Regression in Multiple Regression Notation](https://doi.org/10.2307/2681496)\n",
            "5. [Multiple monotone regression](https://doi.org/10.1037//0033-2909.92.3.791)\n",
            "\n",
            "You can explore these articles for detailed information on multiple regression.\n"
          ]
        }
      ],
      "source": [
        "tool_call=completion.choices[0].message.tool_calls[0]\n",
        "args=json.loads(tool_call.function.arguments)\n",
        "\n",
        "result=find_sources(args['title'])\n",
        "\n",
        "messages.append(completion.choices[0].message)  \n",
        "messages.append({                      \n",
        "    \"role\": \"tool\",\n",
        "    \"tool_call_id\": tool_call.id,\n",
        "    \"content\": str(result)\n",
        "})\n",
        "\n",
        "completion_2 = client.chat.completions.create(\n",
        "    model=\"gpt-4o\",\n",
        "    messages=messages,\n",
        "    tools=tools,\n",
        ")\n",
        "print(completion_2.choices[0].message.content)"
      ]
    }
  ],
  "metadata": {
    "colab": {
      "provenance": []
    },
    "kernelspec": {
      "display_name": "Python 3",
      "name": "python3"
    },
    "language_info": {
      "codemirror_mode": {
        "name": "ipython",
        "version": 3
      },
      "file_extension": ".py",
      "mimetype": "text/x-python",
      "name": "python",
      "nbconvert_exporter": "python",
      "pygments_lexer": "ipython3",
      "version": "3.10.7"
    }
  },
  "nbformat": 4,
  "nbformat_minor": 0
}
